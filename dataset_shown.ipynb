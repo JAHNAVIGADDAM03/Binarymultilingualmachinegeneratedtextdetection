{
 "cells": [
  {
   "cell_type": "code",
   "execution_count": 4,
   "metadata": {},
   "outputs": [
    {
     "name": "stdout",
     "output_type": "stream",
     "text": [
      "Row 23:\n",
      "id: 4af33192-6742-4694-b53a-bc2452697b81\n",
      "source: mage\n",
      "sub_source: hswag\n",
      "lang: en\n",
      "model: opt_350m\n",
      "label: 1\n",
      "text: [step] Don't just sign up just to be on the team. It doesn't matter about your skill, but your effort and willingness to contribute is more important. \"Anyone who signed up for the draft was supposed to play a role in our success.\" If you're willing to give up your time, pay attention to what you do need help with at the end of each week instead of trying to win games over the weekend. 4 players to watch during Week 5 against the Rams: Jalen Ramsey (6-foot-1) vs. Matt Ryan (6-3), Bruce Davis (5-11), Derrick Henry (7-0), Tim Tebow (10). The Cowboys will have a lot of receivers battle it out between now and Sunday's showdown versus the Chargers - and they can ask several questions about their depth chart if they want to know where the team went wrong Wednesday night or Thursday morning.\n"
     ]
    }
   ],
   "source": [
    "from datasets import load_dataset\n",
    "\n",
    "def display_row_with_columns(dataset, row_index):\n",
    "    \"\"\"\n",
    "    Displays a specific row from a Hugging Face dataset with column names and their corresponding values.\n",
    "\n",
    "    Parameters:\n",
    "        dataset (Dataset): The Hugging Face dataset to display the row from.\n",
    "        row_index (int): The index of the row to display.\n",
    "\n",
    "    Returns:\n",
    "        None\n",
    "    \"\"\"\n",
    "    try:\n",
    "        # Ensure the row index is valid\n",
    "        if row_index < 0 or row_index >= len(dataset):\n",
    "            print(f\"Error: Row index {row_index} is out of range. Valid range is 0 to {len(dataset) - 1}.\")\n",
    "            return\n",
    "\n",
    "        # Get the specific row\n",
    "        row = dataset[row_index]\n",
    "\n",
    "        # Display column names and their values\n",
    "        print(f\"Row {row_index}:\")\n",
    "        for column, value in row.items():\n",
    "            print(f\"{column}: {value}\")\n",
    "\n",
    "    except Exception as e:\n",
    "        print(f\"An error occurred: {e}\")\n",
    "\n",
    "# Load the dataset\n",
    "dataset = load_dataset(\"Jinyan1/COLING_2025_MGT_multingual\")['train']\n",
    "\n",
    "# Display a specific row\n",
    "row_index = 23  # Change this to display a different row\n",
    "display_row_with_columns(dataset, row_index)\n"
   ]
  },
  {
   "cell_type": "code",
   "execution_count": 49,
   "metadata": {},
   "outputs": [
    {
     "name": "stdout",
     "output_type": "stream",
     "text": [
      "Row 11030:\n",
      "id: 11622a65-65ba-48d0-ae1b-ce9f8328c7bc\n",
      "source: m4gt\n",
      "sub_source: News/Wikipedia\n",
      "lang: de\n",
      "model: gpt-3.5-turbo\n",
      "label: 1\n",
      "text: Die New Yorker Aktienbörsen haben ihre Verlustserie der vergangenen Tage fortgesetzt und die Sitzung am Freitag erneut tief im Minus beendet. Weiterhin lasteten vor allem die Sorgen um eine drohende Abkühlung der Weltwirtschaft auf den Notierungen. Diese Befürchtungen wurden zum Wochenschluss von schwachen Stimmungsdaten aus der chinesischen Industrie zusätzlich angeheizt. Der Dow Jones brach um satte 530,94 Einheiten oder 3,12 Prozent auf 16.459,75 Zähler ein. Der Leitindex schloss damit den vierten Tag in Folge im roten Bereich. Auf Wochensicht beläuft sich das Minus auf mehr als fünf Prozent, damit verbuchte der Dow seinen größten Wochenverlust seit Herbst 2011. Der 500 ausgewählte US-Unternehmen fassende S&P-500 Index rutschte um 64,84 Punkte (minus 3,19 Prozent) auf 1.970,89 Zähler ab. Das Börsenbarometer ist erstmals seit Februar wieder unter die Marke von 2.000 Punkten gefallen. Der Technologieindex Nasdaq Composite Index büßte 171,45 Einheiten oder 3,52 Prozent auf 4.706,04 Zähler ein. Neben den Konjunktursorgen lastete auch die Unsicherheit um den Zeitpunkt der US-Zinswende merklich auf dem Sentiment, kommentierten Händler. Der schwächer als erwartet ausgefallene US-Einkaufsmanagerindex hat heute zwar keine zusätzlichen Erwartungen einer baldigen Zinserhöhung geschürt, hieß es aus dem Markt. Allerdings äußerte sich US-Notenbankmitglied James Bullard am Freitag trotz der Turbulenzen an den Finanzmärkten optimistisch zur konjunkturellen Lage in den USA. Die Wachstumsaussichten seien relativ gut, sagte Bullard. Die Fed werde die konjunkturellen Fortschritte beim Treffen im September bewerten. Zudem verwies Bullard auf die positive Entwicklung auf dem US-Arbeitsmarkt. Im Dow Jones fand ein Abverkauf auf breiter Front statt. Es gab zu Handelsschluss keinen Kursgewinner. Größter Kursverlierer waren Apple mit einem satten Abschlag von 6,12 Prozent. Gleich dahinter verloren Microsoft als zweitschwächster Wert 5,67 Prozent. Ebenfalls auf den Verkaufslisten waren vor dem Hintergrund deutlich gefallener Ölpreise Energiewerte zu finden. Chevron fielen um klare 4,39 Prozent und ExxonMobil gaben 3,27 Prozent ab. Bereits am Vortag gab es bei beiden Titeln klare Abschläge zu sehen. Der Kurs für den US-Ölpreis WTI ist am Freitag im Handelsverlauf zeitweise unter 40 Dollar gefallen. Dagegen zogen die Aktien von Hewlett-Packard (HP) um 0,44 Prozent nach oben. Der US-Computerriese hat kurz vor seiner Aufspaltung einen deutlichen Rückgang bei Umsatz und Gewinn verbucht. Der Überschuss fiel im Jahresvergleich um 13 Prozent auf 854 Mio. Dollar. Den Analysten von Bernstein Research zufolge fielen die Ergebnisse jedoch überraschend gut aus. Insgesamt hätten die Zahlen die Konsensschätzungen getroffen, hieß es. Salesforce.com konnte die Anleger mit dem heuer zum dritten Mal verbesserten Ausblick überzeugen: die Papiere zogen um fast zwei Prozent an. Wegen sinkender Preise und steigender Kosten für Vertriebspersonal blieb unterm Strich im zweiten Quartal jedoch ein Verlust von knapp einer Million Dollar stehen. Dagegen musste der Agrarmaschinen-Hersteller Deere & Co seinen Gewinnausblick für das Gesamtjahr kappen, was sich mit einem satten Abschlag von mehr als acht Prozent auf die Titel des Konzerns niederschlug.\n"
     ]
    }
   ],
   "source": [
    "import pandas as pd\n",
    "\n",
    "def display_row_with_columns(csv_file, row_index):\n",
    "    \"\"\"\n",
    "    Displays a specific row from a CSV file with column names and their corresponding values.\n",
    "\n",
    "    Parameters:\n",
    "        csv_file (str): The path to the CSV file.\n",
    "        row_index (int): The index of the row to display.\n",
    "\n",
    "    Returns:\n",
    "        None\n",
    "    \"\"\"\n",
    "    try:\n",
    "        # Load the CSV file using pandas\n",
    "        df = pd.read_csv(csv_file)\n",
    "\n",
    "        # Ensure the row index is valid\n",
    "        if row_index < 0 or row_index >= len(df):\n",
    "            print(f\"Error: Row index {row_index} is out of range. Valid range is 0 to {len(df) - 1}.\")\n",
    "            return\n",
    "\n",
    "        # Get the specific row\n",
    "        row = df.iloc[row_index]\n",
    "\n",
    "        # Display column names and their values\n",
    "        print(f\"Row {row_index}:\")\n",
    "        for column, value in row.items():\n",
    "            print(f\"{column}: {value}\")\n",
    "\n",
    "    except Exception as e:\n",
    "        print(f\"An error occurred: {e}\")\n",
    "\n",
    "# Path to the CSV file\n",
    "csv_file = \"sampled_dataset.csv\"  # Change this to the path of your CSV file\n",
    "\n",
    "# Display a specific row\n",
    "row_index = 11030\n",
    "display_row_with_columns(csv_file, row_index)\n"
   ]
  },
  {
   "cell_type": "code",
   "execution_count": 50,
   "metadata": {},
   "outputs": [
    {
     "name": "stdout",
     "output_type": "stream",
     "text": [
      "Data has been saved to 'label_1_data.csv' and 'label_0_data.csv'.\n"
     ]
    }
   ],
   "source": [
    "import pandas as pd\n",
    "\n",
    "def save_to_separate_files(csv_file, label_column=\"label\"):\n",
    "    \"\"\"\n",
    "    Saves rows from the CSV file into two separate files based on label values (1 and 0).\n",
    "    Rows with label 1 will be saved in one file, and rows with label 0 will be saved in another.\n",
    "\n",
    "    Parameters:\n",
    "        csv_file (str): The path to the CSV file.\n",
    "        label_column (str): The column name that contains the label (default is \"label\").\n",
    "        \n",
    "    Returns:\n",
    "        None\n",
    "    \"\"\"\n",
    "    try:\n",
    "        # Load the CSV file using pandas\n",
    "        df = pd.read_csv(csv_file)\n",
    "\n",
    "        # Filter rows where the label is 1 and 0\n",
    "        df_label_1 = df[df[label_column] == 1]\n",
    "        df_label_0 = df[df[label_column] == 0]\n",
    "\n",
    "        # Save these filtered DataFrames to separate CSV files\n",
    "        df_label_1.to_csv('label_1_data.csv', index=False)\n",
    "        df_label_0.to_csv('label_0_data.csv', index=False)\n",
    "\n",
    "        print(\"Data has been saved to 'label_1_data.csv' and 'label_0_data.csv'.\")\n",
    "\n",
    "    except Exception as e:\n",
    "        print(f\"An error occurred: {e}\")\n",
    "\n",
    "# Path to the CSV file\n",
    "csv_file = \"sampled_dataset.csv\"  # Change this to the path of your CSV file\n",
    "\n",
    "# Call the function to save data into separate files based on label\n",
    "save_to_separate_files(csv_file)\n"
   ]
  },
  {
   "cell_type": "code",
   "execution_count": 51,
   "metadata": {},
   "outputs": [],
   "source": [
    "import pandas as pd"
   ]
  },
  {
   "cell_type": "code",
   "execution_count": 52,
   "metadata": {},
   "outputs": [
    {
     "data": {
      "text/html": [
       "<div>\n",
       "<style scoped>\n",
       "    .dataframe tbody tr th:only-of-type {\n",
       "        vertical-align: middle;\n",
       "    }\n",
       "\n",
       "    .dataframe tbody tr th {\n",
       "        vertical-align: top;\n",
       "    }\n",
       "\n",
       "    .dataframe thead th {\n",
       "        text-align: right;\n",
       "    }\n",
       "</style>\n",
       "<table border=\"1\" class=\"dataframe\">\n",
       "  <thead>\n",
       "    <tr style=\"text-align: right;\">\n",
       "      <th></th>\n",
       "      <th>id</th>\n",
       "      <th>source</th>\n",
       "      <th>sub_source</th>\n",
       "      <th>lang</th>\n",
       "      <th>model</th>\n",
       "      <th>label</th>\n",
       "      <th>text</th>\n",
       "    </tr>\n",
       "  </thead>\n",
       "  <tbody>\n",
       "    <tr>\n",
       "      <th>0</th>\n",
       "      <td>374c60d2-dd43-4b61-9ea1-d1a8fa309624</td>\n",
       "      <td>m4gt</td>\n",
       "      <td>News/Wikipedia</td>\n",
       "      <td>ar</td>\n",
       "      <td>gpt-3.5-turbo</td>\n",
       "      <td>1</td>\n",
       "      <td>أشعل اغتيال قائد فيلق القدس في الحرس الثوري ال...</td>\n",
       "    </tr>\n",
       "    <tr>\n",
       "      <th>1</th>\n",
       "      <td>a4e44d93-be72-41ca-84b9-b3e83ecf46ed</td>\n",
       "      <td>m4gt</td>\n",
       "      <td>News/Wikipedia</td>\n",
       "      <td>ar</td>\n",
       "      <td>gpt-3.5-turbo</td>\n",
       "      <td>1</td>\n",
       "      <td>في محاولة لكسب دعم الناخبين الإنجيليين في الان...</td>\n",
       "    </tr>\n",
       "    <tr>\n",
       "      <th>2</th>\n",
       "      <td>ff3bfdb9-5f8c-4315-93c6-28e200fa5892</td>\n",
       "      <td>m4gt</td>\n",
       "      <td>News/Wikipedia</td>\n",
       "      <td>ar</td>\n",
       "      <td>gpt-3.5-turbo</td>\n",
       "      <td>1</td>\n",
       "      <td>جبال الأبالاش (بالإنجليزية: Appalachian Mounta...</td>\n",
       "    </tr>\n",
       "    <tr>\n",
       "      <th>3</th>\n",
       "      <td>ac907968-8c7b-4493-bb0e-feed48581588</td>\n",
       "      <td>m4gt</td>\n",
       "      <td>News/Wikipedia</td>\n",
       "      <td>ar</td>\n",
       "      <td>gpt-3.5-turbo</td>\n",
       "      <td>1</td>\n",
       "      <td>أكدت مصادر أمنية مصرية أن الجهات الأمنية التاب...</td>\n",
       "    </tr>\n",
       "    <tr>\n",
       "      <th>4</th>\n",
       "      <td>2bcbb1c1-c5d9-42e8-9fe5-281d8d0edf0a</td>\n",
       "      <td>m4gt</td>\n",
       "      <td>News/Wikipedia</td>\n",
       "      <td>ar</td>\n",
       "      <td>gpt-3.5-turbo</td>\n",
       "      <td>1</td>\n",
       "      <td>أكدت الكويت رفضها التام لاستخدام أراضيها في أي...</td>\n",
       "    </tr>\n",
       "  </tbody>\n",
       "</table>\n",
       "</div>"
      ],
      "text/plain": [
       "                                     id source      sub_source lang  \\\n",
       "0  374c60d2-dd43-4b61-9ea1-d1a8fa309624   m4gt  News/Wikipedia   ar   \n",
       "1  a4e44d93-be72-41ca-84b9-b3e83ecf46ed   m4gt  News/Wikipedia   ar   \n",
       "2  ff3bfdb9-5f8c-4315-93c6-28e200fa5892   m4gt  News/Wikipedia   ar   \n",
       "3  ac907968-8c7b-4493-bb0e-feed48581588   m4gt  News/Wikipedia   ar   \n",
       "4  2bcbb1c1-c5d9-42e8-9fe5-281d8d0edf0a   m4gt  News/Wikipedia   ar   \n",
       "\n",
       "           model  label                                               text  \n",
       "0  gpt-3.5-turbo      1  أشعل اغتيال قائد فيلق القدس في الحرس الثوري ال...  \n",
       "1  gpt-3.5-turbo      1  في محاولة لكسب دعم الناخبين الإنجيليين في الان...  \n",
       "2  gpt-3.5-turbo      1  جبال الأبالاش (بالإنجليزية: Appalachian Mounta...  \n",
       "3  gpt-3.5-turbo      1  أكدت مصادر أمنية مصرية أن الجهات الأمنية التاب...  \n",
       "4  gpt-3.5-turbo      1  أكدت الكويت رفضها التام لاستخدام أراضيها في أي...  "
      ]
     },
     "execution_count": 52,
     "metadata": {},
     "output_type": "execute_result"
    }
   ],
   "source": [
    "df1 = pd.read_csv(\"label_1_data.csv\")\n",
    "df1.head()"
   ]
  },
  {
   "cell_type": "code",
   "execution_count": 57,
   "metadata": {},
   "outputs": [
    {
     "data": {
      "text/plain": [
       "(29495, 7)"
      ]
     },
     "execution_count": 57,
     "metadata": {},
     "output_type": "execute_result"
    }
   ],
   "source": [
    "df1.shape"
   ]
  },
  {
   "cell_type": "code",
   "execution_count": 53,
   "metadata": {},
   "outputs": [
    {
     "data": {
      "text/html": [
       "<div>\n",
       "<style scoped>\n",
       "    .dataframe tbody tr th:only-of-type {\n",
       "        vertical-align: middle;\n",
       "    }\n",
       "\n",
       "    .dataframe tbody tr th {\n",
       "        vertical-align: top;\n",
       "    }\n",
       "\n",
       "    .dataframe thead th {\n",
       "        text-align: right;\n",
       "    }\n",
       "</style>\n",
       "<table border=\"1\" class=\"dataframe\">\n",
       "  <thead>\n",
       "    <tr style=\"text-align: right;\">\n",
       "      <th></th>\n",
       "      <th>id</th>\n",
       "      <th>source</th>\n",
       "      <th>sub_source</th>\n",
       "      <th>lang</th>\n",
       "      <th>model</th>\n",
       "      <th>label</th>\n",
       "      <th>text</th>\n",
       "    </tr>\n",
       "  </thead>\n",
       "  <tbody>\n",
       "    <tr>\n",
       "      <th>0</th>\n",
       "      <td>04461542-633c-415a-854c-f5dcfd8240bd</td>\n",
       "      <td>m4gt</td>\n",
       "      <td>News/Wikipedia</td>\n",
       "      <td>ar</td>\n",
       "      <td>human</td>\n",
       "      <td>0</td>\n",
       "      <td>الفايكنغ أو الوِيكنجار (بالنوردية القديمة: vík...</td>\n",
       "    </tr>\n",
       "    <tr>\n",
       "      <th>1</th>\n",
       "      <td>d84ab860-d667-49a7-ab01-6b5155e62106</td>\n",
       "      <td>m4gt</td>\n",
       "      <td>News/Wikipedia</td>\n",
       "      <td>ar</td>\n",
       "      <td>human</td>\n",
       "      <td>0</td>\n",
       "      <td>الروبوتية أو الإنساليات أو علم الروبوتات (بالإ...</td>\n",
       "    </tr>\n",
       "    <tr>\n",
       "      <th>2</th>\n",
       "      <td>f2d8893b-e625-45ff-b918-5a2bae5bed6c</td>\n",
       "      <td>m4gt</td>\n",
       "      <td>News/Wikipedia</td>\n",
       "      <td>ar</td>\n",
       "      <td>human</td>\n",
       "      <td>0</td>\n",
       "      <td>غازبروم (Открытое Акционерное Общество «Газпро...</td>\n",
       "    </tr>\n",
       "    <tr>\n",
       "      <th>3</th>\n",
       "      <td>990ffe5d-1c1a-49f9-928d-c75668b6cd53</td>\n",
       "      <td>m4gt</td>\n",
       "      <td>News/Wikipedia</td>\n",
       "      <td>ar</td>\n",
       "      <td>human</td>\n",
       "      <td>0</td>\n",
       "      <td>أطلقت الهند الحاسوب الدفتري المحمول «ساكاشات» ...</td>\n",
       "    </tr>\n",
       "    <tr>\n",
       "      <th>4</th>\n",
       "      <td>4ad3adde-b7e0-4fce-98ef-db8ccac780c9</td>\n",
       "      <td>m4gt</td>\n",
       "      <td>News/Wikipedia</td>\n",
       "      <td>ar</td>\n",
       "      <td>human</td>\n",
       "      <td>0</td>\n",
       "      <td>إيديل (باللاتينية: Aedilis، وهي مشتقَّة من aed...</td>\n",
       "    </tr>\n",
       "  </tbody>\n",
       "</table>\n",
       "</div>"
      ],
      "text/plain": [
       "                                     id source      sub_source lang  model  \\\n",
       "0  04461542-633c-415a-854c-f5dcfd8240bd   m4gt  News/Wikipedia   ar  human   \n",
       "1  d84ab860-d667-49a7-ab01-6b5155e62106   m4gt  News/Wikipedia   ar  human   \n",
       "2  f2d8893b-e625-45ff-b918-5a2bae5bed6c   m4gt  News/Wikipedia   ar  human   \n",
       "3  990ffe5d-1c1a-49f9-928d-c75668b6cd53   m4gt  News/Wikipedia   ar  human   \n",
       "4  4ad3adde-b7e0-4fce-98ef-db8ccac780c9   m4gt  News/Wikipedia   ar  human   \n",
       "\n",
       "   label                                               text  \n",
       "0      0  الفايكنغ أو الوِيكنجار (بالنوردية القديمة: vík...  \n",
       "1      0  الروبوتية أو الإنساليات أو علم الروبوتات (بالإ...  \n",
       "2      0  غازبروم (Открытое Акционерное Общество «Газпро...  \n",
       "3      0  أطلقت الهند الحاسوب الدفتري المحمول «ساكاشات» ...  \n",
       "4      0  إيديل (باللاتينية: Aedilis، وهي مشتقَّة من aed...  "
      ]
     },
     "execution_count": 53,
     "metadata": {},
     "output_type": "execute_result"
    }
   ],
   "source": [
    "df2 = pd.read_csv(\"label_0_data.csv\")\n",
    "df2.head()"
   ]
  },
  {
   "cell_type": "code",
   "execution_count": 56,
   "metadata": {},
   "outputs": [
    {
     "data": {
      "text/plain": [
       "(18628, 7)"
      ]
     },
     "execution_count": 56,
     "metadata": {},
     "output_type": "execute_result"
    }
   ],
   "source": [
    "df2.shape"
   ]
  },
  {
   "cell_type": "code",
   "execution_count": 55,
   "metadata": {},
   "outputs": [
    {
     "name": "stdout",
     "output_type": "stream",
     "text": [
      "Row 500:\n",
      "id: ad7cde86-ef38-46f2-824c-10f6c3bc068b\n",
      "source: m4gt\n",
      "sub_source: True & Fake News\n",
      "lang: bg\n",
      "model: human\n",
      "label: 0\n",
      "text: Снимка: РБ София. Няма оставки в ДБГ, а в Реформаторския блок, защото на тези избори се яви Блокът, а не партиите поотделно. Това каза пред журналисти заместник-председателят на ДБГ Найден Зеленогорски преди заседанието Национален координационен съвет на Реформаторския блок, предаде репортер на Агенция „Фокус“. Попитан дали лидерът на ДБГ Меглена Кунева трябва да последва примера на Радан Кънев, Зеленогорски посочи, че тя първа е дала пример, защото не е участвала в изборите. „Най-ясното е, че 300 хил. десни избиратели не са представени“, каза той. По думите му ще се научи след анализите какви конкретни грешки има всяка част от разстроеното дясно пространство. Според него най-логично е да бъде приета оставката на политическия съвет на РБ. „Като цяло моето лично мнение е, че Блокът и формацията, в този вид, в който се яви на изборите би трябвало да бъде съхранена и доразвита“, обясни Зеленогорски. На въпрос дали смятат да доразвият формацията с Радан Кънев и Христо Иванов, той каза, че трябва да се търси възможност за някакво съгласие в дясно, защото това се случва за трети път. „До последно Реформаторският блок направи всичко възможно, за да се явим единни, опитахме се максимално да разширим формата, но за съжаление не се получи“, коментира Зеленогорски. По отношение на въпроса как ДБГ ще се издържа без държавна субсидия, Зеленогорски посочи, че в партията повече от половината от времето са без държавна субсидия и нямат общински или държавен офис. „В този смисъл при нас има възможности през лично участие да издържаме формацията. Смятам, че ще се справим“, каза Зеленогорски. Деница КИТАНОВА© 2017 Всички права запазени. Позоваването на Информационна агенция \"Фокус\" е задължително!\n"
     ]
    }
   ],
   "source": [
    "import pandas as pd\n",
    "\n",
    "def display_row_with_columns(csv_file, row_index):\n",
    "    \"\"\"\n",
    "    Displays a specific row from a CSV file with column names and their corresponding values.\n",
    "\n",
    "    Parameters:\n",
    "        csv_file (str): The path to the CSV file.\n",
    "        row_index (int): The index of the row to display.\n",
    "\n",
    "    Returns:\n",
    "        None\n",
    "    \"\"\"\n",
    "    try:\n",
    "        # Load the CSV file using pandas\n",
    "        df = pd.read_csv(csv_file)\n",
    "\n",
    "        # Ensure the row index is valid\n",
    "        if row_index < 0 or row_index >= len(df):\n",
    "            print(f\"Error: Row index {row_index} is out of range. Valid range is 0 to {len(df) - 1}.\")\n",
    "            return\n",
    "\n",
    "        # Get the specific row\n",
    "        row = df.iloc[row_index]\n",
    "\n",
    "        # Display column names and their values\n",
    "        print(f\"Row {row_index}:\")\n",
    "        for column, value in row.items():\n",
    "            print(f\"{column}: {value}\")\n",
    "\n",
    "    except Exception as e:\n",
    "        print(f\"An error occurred: {e}\")\n",
    "\n",
    "# Path to the CSV file\n",
    "csv_file = \"label_0_data.csv\"  # Change this to the path of your CSV file\n",
    "\n",
    "# Display a specific row\n",
    "row_index = 500\n",
    "display_row_with_columns(csv_file, row_index)\n"
   ]
  },
  {
   "cell_type": "code",
   "execution_count": null,
   "metadata": {},
   "outputs": [],
   "source": []
  }
 ],
 "metadata": {
  "kernelspec": {
   "display_name": "Python 3",
   "language": "python",
   "name": "python3"
  },
  "language_info": {
   "codemirror_mode": {
    "name": "ipython",
    "version": 3
   },
   "file_extension": ".py",
   "mimetype": "text/x-python",
   "name": "python",
   "nbconvert_exporter": "python",
   "pygments_lexer": "ipython3",
   "version": "3.10.8"
  }
 },
 "nbformat": 4,
 "nbformat_minor": 2
}
