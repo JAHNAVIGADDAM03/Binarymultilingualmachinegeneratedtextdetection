{
 "cells": [
  {
   "cell_type": "code",
   "execution_count": null,
   "metadata": {
    "_cell_guid": "b1076dfc-b9ad-4769-8c92-a6c4dae69d19",
    "_uuid": "8f2839f25d086af736a60e9eeb907d3b93b6e0e5",
    "execution": {
     "iopub.execute_input": "2024-11-23T06:25:58.079931Z",
     "iopub.status.busy": "2024-11-23T06:25:58.079312Z",
     "iopub.status.idle": "2024-11-23T06:25:58.978128Z",
     "shell.execute_reply": "2024-11-23T06:25:58.977444Z",
     "shell.execute_reply.started": "2024-11-23T06:25:58.079898Z"
    },
    "trusted": true
   },
   "outputs": [],
   "source": [
    "# # This Python 3 environment comes with many helpful analytics libraries installed\n",
    "# # It is defined by the kaggle/python Docker image: https://github.com/kaggle/docker-python\n",
    "# # For example, here's several helpful packages to load\n",
    "\n",
    "# import numpy as np # linear algebra\n",
    "# import pandas as pd # data processing, CSV file I/O (e.g. pd.read_csv)\n",
    "\n",
    "# # Input data files are available in the read-only \"../input/\" directory\n",
    "# # For example, running this (by clicking run or pressing Shift+Enter) will list all files under the input directory\n",
    "\n",
    "# import os\n",
    "# for dirname, _, filenames in os.walk('/kaggle/input'):\n",
    "#     for filename in filenames:\n",
    "#         print(os.path.join(dirname, filename))\n",
    "\n",
    "# # You can write up to 20GB to the current directory (/kaggle/working/) that gets preserved as output when you create a version using \"Save & Run All\" \n",
    "# # You can also write temporary files to /kaggle/temp/, but they won't be saved outside of the current session"
   ]
  },
  {
   "cell_type": "code",
   "execution_count": 1,
   "metadata": {
    "execution": {
     "iopub.execute_input": "2024-11-23T09:14:15.549734Z",
     "iopub.status.busy": "2024-11-23T09:14:15.548978Z",
     "iopub.status.idle": "2024-11-23T09:14:35.967788Z",
     "shell.execute_reply": "2024-11-23T09:14:35.967072Z",
     "shell.execute_reply.started": "2024-11-23T09:14:15.549698Z"
    },
    "trusted": true
   },
   "outputs": [],
   "source": [
    "from datasets import load_dataset\n",
    "from transformers import BertTokenizer, BertForSequenceClassification, Trainer, TrainingArguments\n",
    "from sklearn.model_selection import train_test_split\n",
    "import torch\n",
    "import re\n",
    "import nltk\n",
    "from nltk.corpus import stopwords"
   ]
  },
  {
   "cell_type": "code",
   "execution_count": 2,
   "metadata": {
    "execution": {
     "iopub.execute_input": "2024-11-23T09:14:35.969687Z",
     "iopub.status.busy": "2024-11-23T09:14:35.969123Z",
     "iopub.status.idle": "2024-11-23T09:14:36.045278Z",
     "shell.execute_reply": "2024-11-23T09:14:36.044417Z",
     "shell.execute_reply.started": "2024-11-23T09:14:35.969659Z"
    },
    "trusted": true
   },
   "outputs": [
    {
     "name": "stdout",
     "output_type": "stream",
     "text": [
      "[nltk_data] Downloading package stopwords to /usr/share/nltk_data...\n",
      "[nltk_data]   Package stopwords is already up-to-date!\n"
     ]
    },
    {
     "data": {
      "text/plain": [
       "True"
      ]
     },
     "execution_count": 2,
     "metadata": {},
     "output_type": "execute_result"
    }
   ],
   "source": [
    "nltk.download('stopwords')"
   ]
  },
  {
   "cell_type": "code",
   "execution_count": 3,
   "metadata": {
    "execution": {
     "iopub.execute_input": "2024-11-23T09:14:36.046665Z",
     "iopub.status.busy": "2024-11-23T09:14:36.046407Z",
     "iopub.status.idle": "2024-11-23T09:15:07.363386Z",
     "shell.execute_reply": "2024-11-23T09:15:07.362482Z",
     "shell.execute_reply.started": "2024-11-23T09:14:36.046640Z"
    },
    "trusted": true
   },
   "outputs": [
    {
     "data": {
      "application/vnd.jupyter.widget-view+json": {
       "model_id": "c86f0529b88440f6865ae7e4a9903548",
       "version_major": 2,
       "version_minor": 0
      },
      "text/plain": [
       "README.md:   0%|          | 0.00/589 [00:00<?, ?B/s]"
      ]
     },
     "metadata": {},
     "output_type": "display_data"
    },
    {
     "data": {
      "application/vnd.jupyter.widget-view+json": {
       "model_id": "db390a4b159241a4af8f47c97cf8c5a5",
       "version_major": 2,
       "version_minor": 0
      },
      "text/plain": [
       "train-00000-of-00003.parquet:   0%|          | 0.00/213M [00:00<?, ?B/s]"
      ]
     },
     "metadata": {},
     "output_type": "display_data"
    },
    {
     "data": {
      "application/vnd.jupyter.widget-view+json": {
       "model_id": "a0414d8931054ba498d477857b590790",
       "version_major": 2,
       "version_minor": 0
      },
      "text/plain": [
       "train-00001-of-00003.parquet:   0%|          | 0.00/213M [00:00<?, ?B/s]"
      ]
     },
     "metadata": {},
     "output_type": "display_data"
    },
    {
     "data": {
      "application/vnd.jupyter.widget-view+json": {
       "model_id": "ac186ee38ca74e74bf3fc3968a5001b2",
       "version_major": 2,
       "version_minor": 0
      },
      "text/plain": [
       "train-00002-of-00003.parquet:   0%|          | 0.00/212M [00:00<?, ?B/s]"
      ]
     },
     "metadata": {},
     "output_type": "display_data"
    },
    {
     "data": {
      "application/vnd.jupyter.widget-view+json": {
       "model_id": "95e1aa36c8c64d5097c4e6f4456d5972",
       "version_major": 2,
       "version_minor": 0
      },
      "text/plain": [
       "dev-00000-of-00001.parquet:   0%|          | 0.00/275M [00:00<?, ?B/s]"
      ]
     },
     "metadata": {},
     "output_type": "display_data"
    },
    {
     "data": {
      "application/vnd.jupyter.widget-view+json": {
       "model_id": "eaaffb9d0c2d4ddf82896a975edbe1e5",
       "version_major": 2,
       "version_minor": 0
      },
      "text/plain": [
       "Generating train split:   0%|          | 0/674083 [00:00<?, ? examples/s]"
      ]
     },
     "metadata": {},
     "output_type": "display_data"
    },
    {
     "data": {
      "application/vnd.jupyter.widget-view+json": {
       "model_id": "860cace082fb45cbaeb2943835abff90",
       "version_major": 2,
       "version_minor": 0
      },
      "text/plain": [
       "Generating dev split:   0%|          | 0/288894 [00:00<?, ? examples/s]"
      ]
     },
     "metadata": {},
     "output_type": "display_data"
    },
    {
     "name": "stdout",
     "output_type": "stream",
     "text": [
      "Dataset({\n",
      "    features: ['id', 'source', 'sub_source', 'lang', 'model', 'label', 'text'],\n",
      "    num_rows: 674083\n",
      "})\n",
      "Dataset({\n",
      "    features: ['id', 'source', 'sub_source', 'lang', 'model', 'label', 'text'],\n",
      "    num_rows: 288894\n",
      "})\n"
     ]
    }
   ],
   "source": [
    "from datasets import load_dataset\n",
    "\n",
    "# Load the dataset\n",
    "dataset = load_dataset(\"Jinyan1/COLING_2025_MGT_multingual\")\n",
    "\n",
    "# Access the training and development splits\n",
    "train_data = dataset['train']\n",
    "dev_data = dataset['dev']\n",
    "\n",
    "# Display the first example from the training set\n",
    "print(train_data)\n",
    "print(dev_data)"
   ]
  },
  {
   "cell_type": "code",
   "execution_count": 4,
   "metadata": {
    "execution": {
     "iopub.execute_input": "2024-11-23T09:15:07.366342Z",
     "iopub.status.busy": "2024-11-23T09:15:07.365667Z",
     "iopub.status.idle": "2024-11-23T09:15:07.910328Z",
     "shell.execute_reply": "2024-11-23T09:15:07.909423Z",
     "shell.execute_reply.started": "2024-11-23T09:15:07.366300Z"
    },
    "trusted": true
   },
   "outputs": [
    {
     "name": "stdout",
     "output_type": "stream",
     "text": [
      "Language Value Counts:\n",
      "en: 610676\n",
      "zh: 35284\n",
      "de: 4693\n",
      "id: 3976\n",
      "it: 4174\n",
      "bg: 8091\n",
      "ar: 2114\n",
      "ur: 3761\n",
      "ru: 1314\n"
     ]
    }
   ],
   "source": [
    "from collections import Counter\n",
    "\n",
    "# Count occurrences in the 'lang' column\n",
    "lang_counts = Counter(train_data['lang'])\n",
    "\n",
    "# Display the value counts for the 'lang' column\n",
    "print(\"Language Value Counts:\")\n",
    "for lang, count in lang_counts.items():\n",
    "    print(f\"{lang}: {count}\")"
   ]
  },
  {
   "cell_type": "code",
   "execution_count": 5,
   "metadata": {
    "execution": {
     "iopub.execute_input": "2024-11-23T09:15:07.911586Z",
     "iopub.status.busy": "2024-11-23T09:15:07.911319Z",
     "iopub.status.idle": "2024-11-23T09:15:08.467222Z",
     "shell.execute_reply": "2024-11-23T09:15:08.466355Z",
     "shell.execute_reply.started": "2024-11-23T09:15:07.911560Z"
    },
    "trusted": true
   },
   "outputs": [
    {
     "name": "stdout",
     "output_type": "stream",
     "text": [
      "Language Value Counts:\n",
      "1: 416115\n",
      "0: 257968\n"
     ]
    }
   ],
   "source": [
    "# Count occurrences in the 'label' column\n",
    "label_counts = Counter(train_data['label'])\n",
    "\n",
    "# Display the value counts for the 'label' column\n",
    "print(\"Language Value Counts:\")\n",
    "for label, count in label_counts.items():\n",
    "    print(f\"{label}: {count}\")"
   ]
  },
  {
   "cell_type": "code",
   "execution_count": 6,
   "metadata": {
    "execution": {
     "iopub.execute_input": "2024-11-23T09:15:08.469083Z",
     "iopub.status.busy": "2024-11-23T09:15:08.468442Z",
     "iopub.status.idle": "2024-11-23T09:15:13.334537Z",
     "shell.execute_reply": "2024-11-23T09:15:13.333797Z",
     "shell.execute_reply.started": "2024-11-23T09:15:08.469036Z"
    },
    "trusted": true
   },
   "outputs": [
    {
     "name": "stderr",
     "output_type": "stream",
     "text": [
      "/tmp/ipykernel_30/1168841790.py:12: DeprecationWarning: DataFrameGroupBy.apply operated on the grouping columns. This behavior is deprecated, and in a future version of pandas the grouping columns will be excluded from the operation. Either pass `include_groups=False` to exclude the groupings or explicitly select the grouping columns after groupby to silence this warning.\n",
      "  sampled_data = train_data.groupby('lang').apply(sample_data).reset_index(drop=True)\n"
     ]
    },
    {
     "name": "stdout",
     "output_type": "stream",
     "text": [
      "Sampled Dataset:\n",
      "                                         id source      sub_source lang  \\\n",
      "0      374c60d2-dd43-4b61-9ea1-d1a8fa309624   m4gt  News/Wikipedia   ar   \n",
      "1      a4e44d93-be72-41ca-84b9-b3e83ecf46ed   m4gt  News/Wikipedia   ar   \n",
      "2      ff3bfdb9-5f8c-4315-93c6-28e200fa5892   m4gt  News/Wikipedia   ar   \n",
      "3      ac907968-8c7b-4493-bb0e-feed48581588   m4gt  News/Wikipedia   ar   \n",
      "4      2bcbb1c1-c5d9-42e8-9fe5-281d8d0edf0a   m4gt  News/Wikipedia   ar   \n",
      "...                                     ...    ...             ...  ...   \n",
      "48118  7b400ccb-cf66-4c6e-b1f5-22867bc5cf1e    hc3         open_qa   zh   \n",
      "48119  6d0a0aea-54c9-411c-8372-ef6d209accc8    hc3         open_qa   zh   \n",
      "48120  3e3f8314-95b8-45a8-9bbf-78814de27989    hc3      psychology   zh   \n",
      "48121  99f39274-481e-43b7-b7ec-e9209823d5c1   m4gt    Baike/Web QA   zh   \n",
      "48122  12cb11db-156c-481a-acc7-fe6622d8a725    hc3      nlpcc_dbqa   zh   \n",
      "\n",
      "               model  label                                               text  \n",
      "0      gpt-3.5-turbo      1  أشعل اغتيال قائد فيلق القدس في الحرس الثوري ال...  \n",
      "1      gpt-3.5-turbo      1  في محاولة لكسب دعم الناخبين الإنجيليين في الان...  \n",
      "2      gpt-3.5-turbo      1  جبال الأبالاش (بالإنجليزية: Appalachian Mounta...  \n",
      "3      gpt-3.5-turbo      1  أكدت مصادر أمنية مصرية أن الجهات الأمنية التاب...  \n",
      "4      gpt-3.5-turbo      1  أكدت الكويت رفضها التام لاستخدام أراضيها في أي...  \n",
      "...              ...    ...                                                ...  \n",
      "48118         gpt-35      1  这是一个很难回答的问题，因为每个人的感受都是不同的。对于一些人来说，第一次插进去可能会感到不...  \n",
      "48119          human      0  可以适当的吃,只是不能吃的过多,我怀孕的时候也是经常吃的,问过医生,说只要不拉肚子就没事的....  \n",
      "48120          human      0  明明生气了，为何又说不会和他耍脾气？如果耍脾气是怎样的耍法呢？以前冲他耍过脾气吗？关于耍脾气...  \n",
      "48121  gpt-3.5-turbo      1  作为一个AI助手，我没有情感和偏见，只能给出专业的建议。首先要明确的是，爱情和性取向是个人隐...  \n",
      "48122         gpt-35      1  我不确定 2012 年第十四届天津国际印刷包装工业展览会是由哪一个单位承办的。你可以尝试联系...  \n",
      "\n",
      "[48123 rows x 7 columns]\n"
     ]
    }
   ],
   "source": [
    "# Convert the train split to a Pandas DataFrame\n",
    "train_data = dataset['train'].to_pandas()\n",
    "\n",
    "# Function to sample based on language\n",
    "def sample_data(group):\n",
    "    if group.name in ['en', 'zh']:\n",
    "        return group.sample(n=min(10000, len(group)), random_state=42)\n",
    "    else:\n",
    "        return group\n",
    "\n",
    "# Group by 'lang' and apply the sampling function\n",
    "sampled_data = train_data.groupby('lang').apply(sample_data).reset_index(drop=True)\n",
    "\n",
    "# Display the resulting dataset\n",
    "print(\"Sampled Dataset:\")\n",
    "print(sampled_data)\n",
    "\n",
    "# Save the sampled dataset (optional)\n",
    "sampled_data.to_csv(\"sampled_dataset.csv\", index=False)\n"
   ]
  },
  {
   "cell_type": "code",
   "execution_count": 7,
   "metadata": {
    "execution": {
     "iopub.execute_input": "2024-11-23T09:15:13.335714Z",
     "iopub.status.busy": "2024-11-23T09:15:13.335449Z",
     "iopub.status.idle": "2024-11-23T09:15:13.347549Z",
     "shell.execute_reply": "2024-11-23T09:15:13.346562Z",
     "shell.execute_reply.started": "2024-11-23T09:15:13.335687Z"
    },
    "trusted": true
   },
   "outputs": [
    {
     "data": {
      "text/html": [
       "<div>\n",
       "<style scoped>\n",
       "    .dataframe tbody tr th:only-of-type {\n",
       "        vertical-align: middle;\n",
       "    }\n",
       "\n",
       "    .dataframe tbody tr th {\n",
       "        vertical-align: top;\n",
       "    }\n",
       "\n",
       "    .dataframe thead th {\n",
       "        text-align: right;\n",
       "    }\n",
       "</style>\n",
       "<table border=\"1\" class=\"dataframe\">\n",
       "  <thead>\n",
       "    <tr style=\"text-align: right;\">\n",
       "      <th></th>\n",
       "      <th>id</th>\n",
       "      <th>source</th>\n",
       "      <th>sub_source</th>\n",
       "      <th>lang</th>\n",
       "      <th>model</th>\n",
       "      <th>label</th>\n",
       "      <th>text</th>\n",
       "    </tr>\n",
       "  </thead>\n",
       "  <tbody>\n",
       "    <tr>\n",
       "      <th>0</th>\n",
       "      <td>374c60d2-dd43-4b61-9ea1-d1a8fa309624</td>\n",
       "      <td>m4gt</td>\n",
       "      <td>News/Wikipedia</td>\n",
       "      <td>ar</td>\n",
       "      <td>gpt-3.5-turbo</td>\n",
       "      <td>1</td>\n",
       "      <td>أشعل اغتيال قائد فيلق القدس في الحرس الثوري ال...</td>\n",
       "    </tr>\n",
       "    <tr>\n",
       "      <th>1</th>\n",
       "      <td>a4e44d93-be72-41ca-84b9-b3e83ecf46ed</td>\n",
       "      <td>m4gt</td>\n",
       "      <td>News/Wikipedia</td>\n",
       "      <td>ar</td>\n",
       "      <td>gpt-3.5-turbo</td>\n",
       "      <td>1</td>\n",
       "      <td>في محاولة لكسب دعم الناخبين الإنجيليين في الان...</td>\n",
       "    </tr>\n",
       "    <tr>\n",
       "      <th>2</th>\n",
       "      <td>ff3bfdb9-5f8c-4315-93c6-28e200fa5892</td>\n",
       "      <td>m4gt</td>\n",
       "      <td>News/Wikipedia</td>\n",
       "      <td>ar</td>\n",
       "      <td>gpt-3.5-turbo</td>\n",
       "      <td>1</td>\n",
       "      <td>جبال الأبالاش (بالإنجليزية: Appalachian Mounta...</td>\n",
       "    </tr>\n",
       "    <tr>\n",
       "      <th>3</th>\n",
       "      <td>ac907968-8c7b-4493-bb0e-feed48581588</td>\n",
       "      <td>m4gt</td>\n",
       "      <td>News/Wikipedia</td>\n",
       "      <td>ar</td>\n",
       "      <td>gpt-3.5-turbo</td>\n",
       "      <td>1</td>\n",
       "      <td>أكدت مصادر أمنية مصرية أن الجهات الأمنية التاب...</td>\n",
       "    </tr>\n",
       "    <tr>\n",
       "      <th>4</th>\n",
       "      <td>2bcbb1c1-c5d9-42e8-9fe5-281d8d0edf0a</td>\n",
       "      <td>m4gt</td>\n",
       "      <td>News/Wikipedia</td>\n",
       "      <td>ar</td>\n",
       "      <td>gpt-3.5-turbo</td>\n",
       "      <td>1</td>\n",
       "      <td>أكدت الكويت رفضها التام لاستخدام أراضيها في أي...</td>\n",
       "    </tr>\n",
       "  </tbody>\n",
       "</table>\n",
       "</div>"
      ],
      "text/plain": [
       "                                     id source      sub_source lang  \\\n",
       "0  374c60d2-dd43-4b61-9ea1-d1a8fa309624   m4gt  News/Wikipedia   ar   \n",
       "1  a4e44d93-be72-41ca-84b9-b3e83ecf46ed   m4gt  News/Wikipedia   ar   \n",
       "2  ff3bfdb9-5f8c-4315-93c6-28e200fa5892   m4gt  News/Wikipedia   ar   \n",
       "3  ac907968-8c7b-4493-bb0e-feed48581588   m4gt  News/Wikipedia   ar   \n",
       "4  2bcbb1c1-c5d9-42e8-9fe5-281d8d0edf0a   m4gt  News/Wikipedia   ar   \n",
       "\n",
       "           model  label                                               text  \n",
       "0  gpt-3.5-turbo      1  أشعل اغتيال قائد فيلق القدس في الحرس الثوري ال...  \n",
       "1  gpt-3.5-turbo      1  في محاولة لكسب دعم الناخبين الإنجيليين في الان...  \n",
       "2  gpt-3.5-turbo      1  جبال الأبالاش (بالإنجليزية: Appalachian Mounta...  \n",
       "3  gpt-3.5-turbo      1  أكدت مصادر أمنية مصرية أن الجهات الأمنية التاب...  \n",
       "4  gpt-3.5-turbo      1  أكدت الكويت رفضها التام لاستخدام أراضيها في أي...  "
      ]
     },
     "execution_count": 7,
     "metadata": {},
     "output_type": "execute_result"
    }
   ],
   "source": [
    "sampled_data.head()"
   ]
  },
  {
   "cell_type": "code",
   "execution_count": 8,
   "metadata": {
    "execution": {
     "iopub.execute_input": "2024-11-23T09:15:13.348935Z",
     "iopub.status.busy": "2024-11-23T09:15:13.348658Z",
     "iopub.status.idle": "2024-11-23T09:15:18.934471Z",
     "shell.execute_reply": "2024-11-23T09:15:18.933504Z",
     "shell.execute_reply.started": "2024-11-23T09:15:13.348910Z"
    },
    "trusted": true
   },
   "outputs": [
    {
     "data": {
      "text/plain": [
       "lang\n",
       "en    10000\n",
       "zh    10000\n",
       "bg     8091\n",
       "de     4693\n",
       "it     4174\n",
       "id     3976\n",
       "ur     3761\n",
       "ar     2114\n",
       "ru     1314\n",
       "Name: count, dtype: int64"
      ]
     },
     "execution_count": 8,
     "metadata": {},
     "output_type": "execute_result"
    }
   ],
   "source": [
    "sampled_data[\"lang\"].value_counts()"
   ]
  },
  {
   "cell_type": "code",
   "execution_count": 9,
   "metadata": {
    "execution": {
     "iopub.execute_input": "2024-11-23T09:15:18.936031Z",
     "iopub.status.busy": "2024-11-23T09:15:18.935673Z",
     "iopub.status.idle": "2024-11-23T09:15:18.946629Z",
     "shell.execute_reply": "2024-11-23T09:15:18.945788Z",
     "shell.execute_reply.started": "2024-11-23T09:15:18.935992Z"
    },
    "trusted": true
   },
   "outputs": [],
   "source": [
    "df = sampled_data"
   ]
  },
  {
   "cell_type": "code",
   "execution_count": 10,
   "metadata": {
    "execution": {
     "iopub.execute_input": "2024-11-23T09:15:18.949935Z",
     "iopub.status.busy": "2024-11-23T09:15:18.949650Z",
     "iopub.status.idle": "2024-11-23T09:15:18.960709Z",
     "shell.execute_reply": "2024-11-23T09:15:18.960012Z",
     "shell.execute_reply.started": "2024-11-23T09:15:18.949893Z"
    },
    "trusted": true
   },
   "outputs": [],
   "source": [
    "import re\n",
    "from nltk.corpus import stopwords\n",
    "\n",
    "# Load English stop words from NLTK\n",
    "english_stopwords = set(stopwords.words('english'))\n",
    "\n",
    "def preprocess_text_for_english_only(text, lang):\n",
    "    \"\"\"\n",
    "    Preprocesses the text:\n",
    "    - For English: Removes links, stop words, converts to lowercase, and removes special characters.\n",
    "    - For other languages: Leaves text unchanged but removes rows containing links.\n",
    "    \"\"\"\n",
    "    # Remove links for all languages\n",
    "    if re.search(r'http[s]?://\\S+', text):\n",
    "        return None  # Mark rows with links for removal\n",
    "    \n",
    "    # Apply additional preprocessing for English language only\n",
    "    if lang == \"en\":\n",
    "        # Convert text to lowercase\n",
    "        text = text.lower()\n",
    "        \n",
    "        # Remove special characters (keep only alphanumeric and spaces)\n",
    "        text = re.sub(r'[^a-zA-Z\\s]', '', text)\n",
    "        \n",
    "        # Tokenize and remove stop words\n",
    "        words = text.split()\n",
    "        filtered_words = [word for word in words if word not in english_stopwords]\n",
    "        \n",
    "        # Join the words back into a single string\n",
    "        return ' '.join(filtered_words)\n",
    "    \n",
    "    # Return unchanged text for non-English languages\n",
    "    return text\n",
    "\n",
    "def preprocess_dataframe(df, text_column, lang_column):\n",
    "    \"\"\"\n",
    "    Preprocesses the DataFrame:\n",
    "    1. Removes rows with links in the specified text column.\n",
    "    2. Applies text preprocessing to English rows only.\n",
    "    \"\"\"\n",
    "    # Apply the preprocessing function to the text column\n",
    "    df[text_column] = df.apply(\n",
    "        lambda row: preprocess_text_for_english_only(row[text_column], row[lang_column]), axis=1\n",
    "    )\n",
    "    \n",
    "    # Remove rows marked as None (i.e., rows with links)\n",
    "    df = df.dropna(subset=[text_column]).reset_index(drop=True)\n",
    "    \n",
    "    return df\n"
   ]
  },
  {
   "cell_type": "code",
   "execution_count": 11,
   "metadata": {
    "execution": {
     "iopub.execute_input": "2024-11-23T09:15:18.961960Z",
     "iopub.status.busy": "2024-11-23T09:15:18.961711Z",
     "iopub.status.idle": "2024-11-23T09:15:20.133280Z",
     "shell.execute_reply": "2024-11-23T09:15:20.132288Z",
     "shell.execute_reply.started": "2024-11-23T09:15:18.961935Z"
    },
    "trusted": true
   },
   "outputs": [],
   "source": [
    "processed_df = preprocess_dataframe(df, \"text\", \"lang\")"
   ]
  },
  {
   "cell_type": "code",
   "execution_count": 12,
   "metadata": {
    "execution": {
     "iopub.execute_input": "2024-11-23T09:15:20.135175Z",
     "iopub.status.busy": "2024-11-23T09:15:20.134518Z",
     "iopub.status.idle": "2024-11-23T09:15:20.145169Z",
     "shell.execute_reply": "2024-11-23T09:15:20.144241Z",
     "shell.execute_reply.started": "2024-11-23T09:15:20.135133Z"
    },
    "trusted": true
   },
   "outputs": [
    {
     "data": {
      "text/html": [
       "<div>\n",
       "<style scoped>\n",
       "    .dataframe tbody tr th:only-of-type {\n",
       "        vertical-align: middle;\n",
       "    }\n",
       "\n",
       "    .dataframe tbody tr th {\n",
       "        vertical-align: top;\n",
       "    }\n",
       "\n",
       "    .dataframe thead th {\n",
       "        text-align: right;\n",
       "    }\n",
       "</style>\n",
       "<table border=\"1\" class=\"dataframe\">\n",
       "  <thead>\n",
       "    <tr style=\"text-align: right;\">\n",
       "      <th></th>\n",
       "      <th>id</th>\n",
       "      <th>source</th>\n",
       "      <th>sub_source</th>\n",
       "      <th>lang</th>\n",
       "      <th>model</th>\n",
       "      <th>label</th>\n",
       "      <th>text</th>\n",
       "    </tr>\n",
       "  </thead>\n",
       "  <tbody>\n",
       "    <tr>\n",
       "      <th>0</th>\n",
       "      <td>374c60d2-dd43-4b61-9ea1-d1a8fa309624</td>\n",
       "      <td>m4gt</td>\n",
       "      <td>News/Wikipedia</td>\n",
       "      <td>ar</td>\n",
       "      <td>gpt-3.5-turbo</td>\n",
       "      <td>1</td>\n",
       "      <td>أشعل اغتيال قائد فيلق القدس في الحرس الثوري ال...</td>\n",
       "    </tr>\n",
       "    <tr>\n",
       "      <th>1</th>\n",
       "      <td>a4e44d93-be72-41ca-84b9-b3e83ecf46ed</td>\n",
       "      <td>m4gt</td>\n",
       "      <td>News/Wikipedia</td>\n",
       "      <td>ar</td>\n",
       "      <td>gpt-3.5-turbo</td>\n",
       "      <td>1</td>\n",
       "      <td>في محاولة لكسب دعم الناخبين الإنجيليين في الان...</td>\n",
       "    </tr>\n",
       "    <tr>\n",
       "      <th>2</th>\n",
       "      <td>ff3bfdb9-5f8c-4315-93c6-28e200fa5892</td>\n",
       "      <td>m4gt</td>\n",
       "      <td>News/Wikipedia</td>\n",
       "      <td>ar</td>\n",
       "      <td>gpt-3.5-turbo</td>\n",
       "      <td>1</td>\n",
       "      <td>جبال الأبالاش (بالإنجليزية: Appalachian Mounta...</td>\n",
       "    </tr>\n",
       "    <tr>\n",
       "      <th>3</th>\n",
       "      <td>ac907968-8c7b-4493-bb0e-feed48581588</td>\n",
       "      <td>m4gt</td>\n",
       "      <td>News/Wikipedia</td>\n",
       "      <td>ar</td>\n",
       "      <td>gpt-3.5-turbo</td>\n",
       "      <td>1</td>\n",
       "      <td>أكدت مصادر أمنية مصرية أن الجهات الأمنية التاب...</td>\n",
       "    </tr>\n",
       "    <tr>\n",
       "      <th>4</th>\n",
       "      <td>2bcbb1c1-c5d9-42e8-9fe5-281d8d0edf0a</td>\n",
       "      <td>m4gt</td>\n",
       "      <td>News/Wikipedia</td>\n",
       "      <td>ar</td>\n",
       "      <td>gpt-3.5-turbo</td>\n",
       "      <td>1</td>\n",
       "      <td>أكدت الكويت رفضها التام لاستخدام أراضيها في أي...</td>\n",
       "    </tr>\n",
       "  </tbody>\n",
       "</table>\n",
       "</div>"
      ],
      "text/plain": [
       "                                     id source      sub_source lang  \\\n",
       "0  374c60d2-dd43-4b61-9ea1-d1a8fa309624   m4gt  News/Wikipedia   ar   \n",
       "1  a4e44d93-be72-41ca-84b9-b3e83ecf46ed   m4gt  News/Wikipedia   ar   \n",
       "2  ff3bfdb9-5f8c-4315-93c6-28e200fa5892   m4gt  News/Wikipedia   ar   \n",
       "3  ac907968-8c7b-4493-bb0e-feed48581588   m4gt  News/Wikipedia   ar   \n",
       "4  2bcbb1c1-c5d9-42e8-9fe5-281d8d0edf0a   m4gt  News/Wikipedia   ar   \n",
       "\n",
       "           model  label                                               text  \n",
       "0  gpt-3.5-turbo      1  أشعل اغتيال قائد فيلق القدس في الحرس الثوري ال...  \n",
       "1  gpt-3.5-turbo      1  في محاولة لكسب دعم الناخبين الإنجيليين في الان...  \n",
       "2  gpt-3.5-turbo      1  جبال الأبالاش (بالإنجليزية: Appalachian Mounta...  \n",
       "3  gpt-3.5-turbo      1  أكدت مصادر أمنية مصرية أن الجهات الأمنية التاب...  \n",
       "4  gpt-3.5-turbo      1  أكدت الكويت رفضها التام لاستخدام أراضيها في أي...  "
      ]
     },
     "execution_count": 12,
     "metadata": {},
     "output_type": "execute_result"
    }
   ],
   "source": [
    "processed_df.head()"
   ]
  },
  {
   "cell_type": "code",
   "execution_count": 13,
   "metadata": {
    "execution": {
     "iopub.execute_input": "2024-11-23T09:15:20.146377Z",
     "iopub.status.busy": "2024-11-23T09:15:20.146151Z",
     "iopub.status.idle": "2024-11-23T09:15:20.169443Z",
     "shell.execute_reply": "2024-11-23T09:15:20.168730Z",
     "shell.execute_reply.started": "2024-11-23T09:15:20.146355Z"
    },
    "trusted": true
   },
   "outputs": [],
   "source": [
    "df1 = processed_df.sample(frac=1, random_state=42).reset_index(drop=True)"
   ]
  },
  {
   "cell_type": "code",
   "execution_count": 14,
   "metadata": {
    "execution": {
     "iopub.execute_input": "2024-11-23T09:15:20.170625Z",
     "iopub.status.busy": "2024-11-23T09:15:20.170376Z",
     "iopub.status.idle": "2024-11-23T09:15:20.174707Z",
     "shell.execute_reply": "2024-11-23T09:15:20.173746Z",
     "shell.execute_reply.started": "2024-11-23T09:15:20.170600Z"
    },
    "trusted": true
   },
   "outputs": [],
   "source": [
    "x = df1['text']\n",
    "y = df1['label']"
   ]
  },
  {
   "cell_type": "code",
   "execution_count": 15,
   "metadata": {
    "execution": {
     "iopub.execute_input": "2024-11-23T09:15:20.176444Z",
     "iopub.status.busy": "2024-11-23T09:15:20.175900Z",
     "iopub.status.idle": "2024-11-23T09:15:29.486010Z",
     "shell.execute_reply": "2024-11-23T09:15:29.484911Z",
     "shell.execute_reply.started": "2024-11-23T09:15:20.176405Z"
    },
    "trusted": true
   },
   "outputs": [
    {
     "name": "stderr",
     "output_type": "stream",
     "text": [
      "/opt/conda/lib/python3.10/pty.py:89: RuntimeWarning: os.fork() was called. os.fork() is incompatible with multithreaded code, and JAX is multithreaded, so this will likely lead to a deadlock.\n",
      "  pid, fd = os.forkpty()\n"
     ]
    },
    {
     "name": "stdout",
     "output_type": "stream",
     "text": [
      "Requirement already satisfied: transformers==4.45.1 in /opt/conda/lib/python3.10/site-packages (4.45.1)\n",
      "Requirement already satisfied: tensorflow==2.16.1 in /opt/conda/lib/python3.10/site-packages (2.16.1)\n",
      "Requirement already satisfied: filelock in /opt/conda/lib/python3.10/site-packages (from transformers==4.45.1) (3.15.1)\n",
      "Requirement already satisfied: huggingface-hub<1.0,>=0.23.2 in /opt/conda/lib/python3.10/site-packages (from transformers==4.45.1) (0.25.1)\n",
      "Requirement already satisfied: numpy>=1.17 in /opt/conda/lib/python3.10/site-packages (from transformers==4.45.1) (1.26.4)\n",
      "Requirement already satisfied: packaging>=20.0 in /opt/conda/lib/python3.10/site-packages (from transformers==4.45.1) (21.3)\n",
      "Requirement already satisfied: pyyaml>=5.1 in /opt/conda/lib/python3.10/site-packages (from transformers==4.45.1) (6.0.2)\n",
      "Requirement already satisfied: regex!=2019.12.17 in /opt/conda/lib/python3.10/site-packages (from transformers==4.45.1) (2024.5.15)\n",
      "Requirement already satisfied: requests in /opt/conda/lib/python3.10/site-packages (from transformers==4.45.1) (2.32.3)\n",
      "Requirement already satisfied: safetensors>=0.4.1 in /opt/conda/lib/python3.10/site-packages (from transformers==4.45.1) (0.4.5)\n",
      "Requirement already satisfied: tokenizers<0.21,>=0.20 in /opt/conda/lib/python3.10/site-packages (from transformers==4.45.1) (0.20.0)\n",
      "Requirement already satisfied: tqdm>=4.27 in /opt/conda/lib/python3.10/site-packages (from transformers==4.45.1) (4.66.4)\n",
      "Requirement already satisfied: absl-py>=1.0.0 in /opt/conda/lib/python3.10/site-packages (from tensorflow==2.16.1) (1.4.0)\n",
      "Requirement already satisfied: astunparse>=1.6.0 in /opt/conda/lib/python3.10/site-packages (from tensorflow==2.16.1) (1.6.3)\n",
      "Requirement already satisfied: flatbuffers>=23.5.26 in /opt/conda/lib/python3.10/site-packages (from tensorflow==2.16.1) (24.3.25)\n",
      "Requirement already satisfied: gast!=0.5.0,!=0.5.1,!=0.5.2,>=0.2.1 in /opt/conda/lib/python3.10/site-packages (from tensorflow==2.16.1) (0.5.4)\n",
      "Requirement already satisfied: google-pasta>=0.1.1 in /opt/conda/lib/python3.10/site-packages (from tensorflow==2.16.1) (0.2.0)\n",
      "Requirement already satisfied: h5py>=3.10.0 in /opt/conda/lib/python3.10/site-packages (from tensorflow==2.16.1) (3.11.0)\n",
      "Requirement already satisfied: libclang>=13.0.0 in /opt/conda/lib/python3.10/site-packages (from tensorflow==2.16.1) (18.1.1)\n",
      "Requirement already satisfied: ml-dtypes~=0.3.1 in /opt/conda/lib/python3.10/site-packages (from tensorflow==2.16.1) (0.3.2)\n",
      "Requirement already satisfied: opt-einsum>=2.3.2 in /opt/conda/lib/python3.10/site-packages (from tensorflow==2.16.1) (3.3.0)\n",
      "Requirement already satisfied: protobuf!=4.21.0,!=4.21.1,!=4.21.2,!=4.21.3,!=4.21.4,!=4.21.5,<5.0.0dev,>=3.20.3 in /opt/conda/lib/python3.10/site-packages (from tensorflow==2.16.1) (3.20.3)\n",
      "Requirement already satisfied: setuptools in /opt/conda/lib/python3.10/site-packages (from tensorflow==2.16.1) (70.0.0)\n",
      "Requirement already satisfied: six>=1.12.0 in /opt/conda/lib/python3.10/site-packages (from tensorflow==2.16.1) (1.16.0)\n",
      "Requirement already satisfied: termcolor>=1.1.0 in /opt/conda/lib/python3.10/site-packages (from tensorflow==2.16.1) (2.4.0)\n",
      "Requirement already satisfied: typing-extensions>=3.6.6 in /opt/conda/lib/python3.10/site-packages (from tensorflow==2.16.1) (4.12.2)\n",
      "Requirement already satisfied: wrapt>=1.11.0 in /opt/conda/lib/python3.10/site-packages (from tensorflow==2.16.1) (1.16.0)\n",
      "Requirement already satisfied: grpcio<2.0,>=1.24.3 in /opt/conda/lib/python3.10/site-packages (from tensorflow==2.16.1) (1.62.2)\n",
      "Requirement already satisfied: tensorboard<2.17,>=2.16 in /opt/conda/lib/python3.10/site-packages (from tensorflow==2.16.1) (2.16.2)\n",
      "Requirement already satisfied: keras>=3.0.0 in /opt/conda/lib/python3.10/site-packages (from tensorflow==2.16.1) (3.3.3)\n",
      "Requirement already satisfied: tensorflow-io-gcs-filesystem>=0.23.1 in /opt/conda/lib/python3.10/site-packages (from tensorflow==2.16.1) (0.37.0)\n",
      "Requirement already satisfied: wheel<1.0,>=0.23.0 in /opt/conda/lib/python3.10/site-packages (from astunparse>=1.6.0->tensorflow==2.16.1) (0.43.0)\n",
      "Requirement already satisfied: fsspec>=2023.5.0 in /opt/conda/lib/python3.10/site-packages (from huggingface-hub<1.0,>=0.23.2->transformers==4.45.1) (2024.6.1)\n",
      "Requirement already satisfied: rich in /opt/conda/lib/python3.10/site-packages (from keras>=3.0.0->tensorflow==2.16.1) (13.7.1)\n",
      "Requirement already satisfied: namex in /opt/conda/lib/python3.10/site-packages (from keras>=3.0.0->tensorflow==2.16.1) (0.0.8)\n",
      "Requirement already satisfied: optree in /opt/conda/lib/python3.10/site-packages (from keras>=3.0.0->tensorflow==2.16.1) (0.11.0)\n",
      "Requirement already satisfied: pyparsing!=3.0.5,>=2.0.2 in /opt/conda/lib/python3.10/site-packages (from packaging>=20.0->transformers==4.45.1) (3.1.2)\n",
      "Requirement already satisfied: charset-normalizer<4,>=2 in /opt/conda/lib/python3.10/site-packages (from requests->transformers==4.45.1) (3.3.2)\n",
      "Requirement already satisfied: idna<4,>=2.5 in /opt/conda/lib/python3.10/site-packages (from requests->transformers==4.45.1) (3.7)\n",
      "Requirement already satisfied: urllib3<3,>=1.21.1 in /opt/conda/lib/python3.10/site-packages (from requests->transformers==4.45.1) (1.26.18)\n",
      "Requirement already satisfied: certifi>=2017.4.17 in /opt/conda/lib/python3.10/site-packages (from requests->transformers==4.45.1) (2024.8.30)\n",
      "Requirement already satisfied: markdown>=2.6.8 in /opt/conda/lib/python3.10/site-packages (from tensorboard<2.17,>=2.16->tensorflow==2.16.1) (3.6)\n",
      "Requirement already satisfied: tensorboard-data-server<0.8.0,>=0.7.0 in /opt/conda/lib/python3.10/site-packages (from tensorboard<2.17,>=2.16->tensorflow==2.16.1) (0.7.2)\n",
      "Requirement already satisfied: werkzeug>=1.0.1 in /opt/conda/lib/python3.10/site-packages (from tensorboard<2.17,>=2.16->tensorflow==2.16.1) (3.0.4)\n",
      "Requirement already satisfied: MarkupSafe>=2.1.1 in /opt/conda/lib/python3.10/site-packages (from werkzeug>=1.0.1->tensorboard<2.17,>=2.16->tensorflow==2.16.1) (2.1.5)\n",
      "Requirement already satisfied: markdown-it-py>=2.2.0 in /opt/conda/lib/python3.10/site-packages (from rich->keras>=3.0.0->tensorflow==2.16.1) (3.0.0)\n",
      "Requirement already satisfied: pygments<3.0.0,>=2.13.0 in /opt/conda/lib/python3.10/site-packages (from rich->keras>=3.0.0->tensorflow==2.16.1) (2.18.0)\n",
      "Requirement already satisfied: mdurl~=0.1 in /opt/conda/lib/python3.10/site-packages (from markdown-it-py>=2.2.0->rich->keras>=3.0.0->tensorflow==2.16.1) (0.1.2)\n",
      "Note: you may need to restart the kernel to use updated packages.\n"
     ]
    }
   ],
   "source": [
    "pip install transformers==4.45.1 tensorflow==2.16.1"
   ]
  },
  {
   "cell_type": "code",
   "execution_count": 16,
   "metadata": {
    "execution": {
     "iopub.execute_input": "2024-11-23T09:15:29.487778Z",
     "iopub.status.busy": "2024-11-23T09:15:29.487480Z",
     "iopub.status.idle": "2024-11-23T09:58:02.477843Z",
     "shell.execute_reply": "2024-11-23T09:58:02.476927Z",
     "shell.execute_reply.started": "2024-11-23T09:15:29.487748Z"
    },
    "trusted": true
   },
   "outputs": [
    {
     "data": {
      "application/vnd.jupyter.widget-view+json": {
       "model_id": "0d72efc18e9d4f5a882062ecf0bc1121",
       "version_major": 2,
       "version_minor": 0
      },
      "text/plain": [
       "tokenizer_config.json:   0%|          | 0.00/48.0 [00:00<?, ?B/s]"
      ]
     },
     "metadata": {},
     "output_type": "display_data"
    },
    {
     "data": {
      "application/vnd.jupyter.widget-view+json": {
       "model_id": "5b16058d51fd4a57b5b68a5336252cbd",
       "version_major": 2,
       "version_minor": 0
      },
      "text/plain": [
       "vocab.txt:   0%|          | 0.00/232k [00:00<?, ?B/s]"
      ]
     },
     "metadata": {},
     "output_type": "display_data"
    },
    {
     "data": {
      "application/vnd.jupyter.widget-view+json": {
       "model_id": "a8d675748ec5484ab6aad5328759f39c",
       "version_major": 2,
       "version_minor": 0
      },
      "text/plain": [
       "tokenizer.json:   0%|          | 0.00/466k [00:00<?, ?B/s]"
      ]
     },
     "metadata": {},
     "output_type": "display_data"
    },
    {
     "data": {
      "application/vnd.jupyter.widget-view+json": {
       "model_id": "c4019b8d7f7845c889bf4388aad16f86",
       "version_major": 2,
       "version_minor": 0
      },
      "text/plain": [
       "config.json:   0%|          | 0.00/570 [00:00<?, ?B/s]"
      ]
     },
     "metadata": {},
     "output_type": "display_data"
    },
    {
     "name": "stderr",
     "output_type": "stream",
     "text": [
      "Tokenizing data: 100%|██████████| 38146/38146 [04:10<00:00, 152.21it/s]\n",
      "Tokenizing data: 100%|██████████| 9537/9537 [01:01<00:00, 154.43it/s]\n"
     ]
    },
    {
     "data": {
      "application/vnd.jupyter.widget-view+json": {
       "model_id": "92bde734ec3340febee5685fddf889bd",
       "version_major": 2,
       "version_minor": 0
      },
      "text/plain": [
       "model.safetensors:   0%|          | 0.00/440M [00:00<?, ?B/s]"
      ]
     },
     "metadata": {},
     "output_type": "display_data"
    },
    {
     "name": "stderr",
     "output_type": "stream",
     "text": [
      "All PyTorch model weights were used when initializing TFBertForSequenceClassification.\n",
      "\n",
      "Some weights or buffers of the TF 2.0 model TFBertForSequenceClassification were not initialized from the PyTorch model and are newly initialized: ['classifier.weight', 'classifier.bias']\n",
      "You should probably TRAIN this model on a down-stream task to be able to use it for predictions and inference.\n"
     ]
    },
    {
     "name": "stdout",
     "output_type": "stream",
     "text": [
      "Epoch 1/3\n",
      "WARNING: AutoGraph could not transform <function infer_framework at 0x797cfeed5ab0> and will run it as-is.\n",
      "Cause: for/else statement not yet supported\n",
      "To silence this warning, decorate the function with @tf.autograph.experimental.do_not_convert\n",
      "2385/2385 [==============================] - 756s 291ms/step - loss: 0.4454 - accuracy: 0.7629 - val_loss: 0.3460 - val_accuracy: 0.8350\n",
      "Epoch 2/3\n",
      "2385/2385 [==============================] - 685s 287ms/step - loss: 0.2802 - accuracy: 0.8777 - val_loss: 0.3031 - val_accuracy: 0.8657\n",
      "Epoch 3/3\n",
      "2385/2385 [==============================] - 685s 287ms/step - loss: 0.1631 - accuracy: 0.9317 - val_loss: 0.3502 - val_accuracy: 0.8776\n",
      "299/299 [==============================] - 56s 163ms/step\n",
      "Confusion Matrix:\n",
      "[[2943  741]\n",
      " [ 426 5427]]\n",
      "\n",
      "Classification Report:\n",
      "              precision    recall  f1-score   support\n",
      "\n",
      "           0       0.87      0.80      0.83      3684\n",
      "           1       0.88      0.93      0.90      5853\n",
      "\n",
      "    accuracy                           0.88      9537\n",
      "   macro avg       0.88      0.86      0.87      9537\n",
      "weighted avg       0.88      0.88      0.88      9537\n",
      "\n"
     ]
    },
    {
     "data": {
      "image/png": "[encoded data removed]",
      "text/plain": [
       "<Figure size 800x600 with 2 Axes>"
      ]
     },
     "metadata": {},
     "output_type": "display_data"
    }
   ],
   "source": [
    "from sklearn.model_selection import train_test_split\n",
    "from transformers import BertTokenizer, TFBertForSequenceClassification\n",
    "from transformers import create_optimizer\n",
    "from sklearn.metrics import confusion_matrix, classification_report\n",
    "import tensorflow as tf\n",
    "import numpy as np\n",
    "import matplotlib.pyplot as plt\n",
    "import seaborn as sns\n",
    "from tqdm import tqdm\n",
    "\n",
    "# Step 1: Data Preparation\n",
    "# Assuming `df1` contains 'text' and 'label' columns\n",
    "x = df1['text'].tolist()  # Convert text data to a list\n",
    "y = df1['label'].tolist()  # Convert labels to a list\n",
    "\n",
    "# Ensure there are no None or NaN values in x or y\n",
    "x = [str(text) for text in x if text is not None]\n",
    "y = [label for label in y if label is not None]\n",
    "\n",
    "# Ensure y contains integer labels only (e.g., 0 and 1 for binary classification)\n",
    "y = np.array(y, dtype=np.int32)\n",
    "\n",
    "# Splitting the dataset\n",
    "x_train, x_test, y_train, y_test = train_test_split(x, y, test_size=0.2, random_state=42)\n",
    "\n",
    "# Step 2: Tokenizer and Encoding\n",
    "tokenizer = BertTokenizer.from_pretrained('bert-base-uncased')\n",
    "max_len = 128\n",
    "\n",
    "# Tokenizing Data\n",
    "def tokenize_data(texts, tokenizer, max_len):\n",
    "    input_ids, attention_masks = [], []\n",
    "    for text in tqdm(texts, desc=\"Tokenizing data\"):\n",
    "        encoding = tokenizer(\n",
    "            text,\n",
    "            truncation=True,\n",
    "            padding=\"max_length\",\n",
    "            max_length=max_len,\n",
    "            return_tensors=\"tf\",\n",
    "        )\n",
    "        input_ids.append(encoding[\"input_ids\"][0].numpy())\n",
    "        attention_masks.append(encoding[\"attention_mask\"][0].numpy())\n",
    "    return np.array(input_ids), np.array(attention_masks)\n",
    "\n",
    "# Tokenize the training and testing data\n",
    "train_input_ids, train_attention_masks = tokenize_data(x_train, tokenizer, max_len)\n",
    "test_input_ids, test_attention_masks = tokenize_data(x_test, tokenizer, max_len)\n",
    "\n",
    "# Step 3: Model Definition\n",
    "model = TFBertForSequenceClassification.from_pretrained(\n",
    "    \"bert-base-uncased\", num_labels=2  # Adjust `num_labels` for your use case\n",
    ")\n",
    "\n",
    "# Define optimizer\n",
    "batch_size = 16\n",
    "epochs = 3\n",
    "num_train_steps = (len(train_input_ids) // batch_size) * epochs\n",
    "num_warmup_steps = int(0.1 * num_train_steps)  # 10% warmup\n",
    "\n",
    "optimizer, schedule = create_optimizer(\n",
    "    init_lr=5e-5,\n",
    "    num_train_steps=num_train_steps,\n",
    "    num_warmup_steps=num_warmup_steps,\n",
    "    weight_decay_rate=0.01,\n",
    ")\n",
    "\n",
    "# Compile the model\n",
    "loss = tf.keras.losses.SparseCategoricalCrossentropy(from_logits=True)\n",
    "model.compile(optimizer=optimizer, loss=loss, metrics=[\"accuracy\"])\n",
    "\n",
    "# Step 4: Train the Model\n",
    "history = model.fit(\n",
    "    {\"input_ids\": train_input_ids, \"attention_mask\": train_attention_masks},\n",
    "    y_train,\n",
    "    validation_data=(\n",
    "        {\"input_ids\": test_input_ids, \"attention_mask\": test_attention_masks},\n",
    "        y_test,\n",
    "    ),\n",
    "    epochs=epochs,\n",
    "    batch_size=batch_size,\n",
    ")\n",
    "\n",
    "# Step 5: Prediction Logic\n",
    "def predict_texts(texts, model, tokenizer, max_len):\n",
    "    encodings = tokenizer(\n",
    "        texts,\n",
    "        truncation=True,\n",
    "        padding=\"max_length\",\n",
    "        max_length=max_len,\n",
    "        return_tensors=\"tf\",\n",
    "    )\n",
    "    predictions = model.predict(\n",
    "        {\"input_ids\": encodings[\"input_ids\"], \"attention_mask\": encodings[\"attention_mask\"]}\n",
    "    )\n",
    "    return np.argmax(predictions.logits, axis=1)\n",
    "\n",
    "y_pred = predict_texts(x_test, model, tokenizer, max_len)\n",
    "\n",
    "# Confusion Matrix and Report\n",
    "conf_matrix = confusion_matrix(y_test, y_pred)\n",
    "class_report = classification_report(y_test, y_pred)\n",
    "\n",
    "print(\"Confusion Matrix:\")\n",
    "print(conf_matrix)\n",
    "print(\"\\nClassification Report:\")\n",
    "print(class_report)\n",
    "\n",
    "# Visualizing Confusion Matrix\n",
    "plt.figure(figsize=(8, 6))\n",
    "sns.heatmap(\n",
    "    conf_matrix,\n",
    "    annot=True,\n",
    "    fmt=\"d\",\n",
    "    cmap=\"Blues\",\n",
    "    xticklabels=[\"Class 0\", \"Class 1\"],\n",
    "    yticklabels=[\"Class 0\", \"Class 1\"],\n",
    ")\n",
    "plt.xlabel(\"Predicted\")\n",
    "plt.ylabel(\"Actual\")\n",
    "plt.title(\"Confusion Matrix\")\n",
    "plt.show()\n"
   ]
  },
  {
   "cell_type": "code",
   "execution_count": 17,
   "metadata": {
    "execution": {
     "iopub.execute_input": "2024-11-23T09:58:02.479344Z",
     "iopub.status.busy": "2024-11-23T09:58:02.479024Z",
     "iopub.status.idle": "2024-11-23T09:58:03.731315Z",
     "shell.execute_reply": "2024-11-23T09:58:03.730386Z",
     "shell.execute_reply.started": "2024-11-23T09:58:02.479316Z"
    },
    "trusted": true
   },
   "outputs": [
    {
     "name": "stdout",
     "output_type": "stream",
     "text": [
      "Model saved to ./saved_files/model\n",
      "Tokenizer saved to ./saved_files/tokenizer\n"
     ]
    }
   ],
   "source": [
    "import os\n",
    "import shutil\n",
    "from transformers import BertTokenizer, TFBertForSequenceClassification\n",
    "\n",
    "# Define directories for saving model and tokenizer\n",
    "base_directory = \"./saved_files\"\n",
    "model_save_directory = os.path.join(base_directory, \"model\")\n",
    "tokenizer_save_directory = os.path.join(base_directory, \"tokenizer\")\n",
    "\n",
    "# Ensure base directory exists\n",
    "os.makedirs(base_directory, exist_ok=True)\n",
    "\n",
    "# Save the model and tokenizer in their respective directories\n",
    "os.makedirs(model_save_directory, exist_ok=True)\n",
    "os.makedirs(tokenizer_save_directory, exist_ok=True)\n",
    "\n",
    "# Save the model to its directory\n",
    "model.save_pretrained(model_save_directory)\n",
    "\n",
    "# Save the tokenizer to its directory\n",
    "tokenizer.save_pretrained(tokenizer_save_directory)\n",
    "\n",
    "print(f\"Model saved to {model_save_directory}\")\n",
    "print(f\"Tokenizer saved to {tokenizer_save_directory}\")\n"
   ]
  },
  {
   "cell_type": "code",
   "execution_count": null,
   "metadata": {
    "trusted": true
   },
   "outputs": [],
   "source": []
  },
  {
   "cell_type": "code",
   "execution_count": null,
   "metadata": {
    "trusted": true
   },
   "outputs": [],
   "source": []
  }
 ],
 "metadata": {
  "kaggle": {
   "accelerator": "gpu",
   "dataSources": [],
   "dockerImageVersionId": 30787,
   "isGpuEnabled": true,
   "isInternetEnabled": true,
   "language": "python",
   "sourceType": "notebook"
  },
  "kernelspec": {
   "display_name": "Python 3",
   "language": "python",
   "name": "python3"
  },
  "language_info": {
   "codemirror_mode": {
    "name": "ipython",
    "version": 3
   },
   "file_extension": ".py",
   "mimetype": "text/x-python",
   "name": "python",
   "nbconvert_exporter": "python",
   "pygments_lexer": "ipython3",
   "version": "3.10.14"
  }
 },
 "nbformat": 4,
 "nbformat_minor": 4
}
